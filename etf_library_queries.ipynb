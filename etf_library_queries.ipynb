{
 "cells": [
  {
   "cell_type": "markdown",
   "id": "876b7810",
   "metadata": {},
   "source": [
    "## Imports\n",
    "\n",
    "Embeddings = turning text to vectors (a way to compress text into something more easily searchable)\n",
    "FAISS = FB's vector database\n",
    "VectorDBQA = class that takes a pre-trained language model and a vector database and does Q&A stuff\n",
    "get_openai_callback = a way to get token info (aka OpenAI 'calls back' what it used)\n",
    "pickle is for saving and opening the vector database (so i dont have to calculate it for every question)"
   ]
  },
  {
   "cell_type": "code",
   "execution_count": 10,
   "id": "4aaab782",
   "metadata": {},
   "outputs": [],
   "source": [
    "from langchain.embeddings.openai import OpenAIEmbeddings\n",
    "from langchain.llms.loading import load_llm\n",
    "from langchain.vectorstores.faiss import FAISS\n",
    "from langchain.text_splitter import CharacterTextSplitter\n",
    "from langchain import OpenAI, VectorDBQA\n",
    "from langchain.chains.question_answering import load_qa_chain\n",
    "from langchain.callbacks import get_openai_callback\n",
    "from langchain.text_splitter import RecursiveCharacterTextSplitter\n",
    "import pickle\n",
    "\n",
    "openai_api_key=\"API_KEY\""
   ]
  },
  {
   "cell_type": "markdown",
   "id": "50ead9d3",
   "metadata": {},
   "source": [
    "## Starting the model\n",
    "\n",
    "Chain types: stuff, map_reduce, map_rerank, refine.\n",
    "\n",
    "Not sure which is best for what yet. Performance for question-answering seems to be: stuff, refine, map_reduce, map_rerank\n",
    "\n",
    "Potential use-cases (GPT-generated, so take with grain of salt):\n",
    "- *Stuff* is designed to concatenate multiple texts together, rather than generating new text (it just stuffs all the related data into the prompt for the LLM to handle). Simple and brute-force (goes over LLM limit sometimes)\n",
    "\n",
    "- *Map-Reduce* is for large datasets. It takes two steps, the first generating intermediate outputs (aka applying the prompt/query to each chunk - calling LLM each time), and the second reducing those to a single one\n",
    "\n",
    "- *Refine* is iterative - taking one input chunk and applying the prompt, then doing so for the next input chunk and asking the LLM to refine. Well-suited for datasets that require a high level of precision and control. Takes more time and involves more LLM calls than *stuff* chain\n",
    "\n",
    "- *Map-Rerank* runs the prompt/query on each chunk, then scores the answer from the chunk on certainty. Returns the most certain response. Can't combine information between documents though."
   ]
  },
  {
   "cell_type": "code",
   "execution_count": 48,
   "id": "aa7f170c",
   "metadata": {},
   "outputs": [],
   "source": [
    "llm = load_llm(\"llm.json\")\n",
    "\n",
    "qa_chain = load_qa_chain(llm, chain_type=\"refine\")\n",
    "\n",
    "with open(\"vectordb.pkl\", 'rb') as f:\n",
    "    docsearch = pickle.load(f)\n",
    "    \n",
    "qa = VectorDBQA(combine_documents_chain=qa_chain, vectorstore=docsearch, return_source_documents=True)"
   ]
  },
  {
   "cell_type": "markdown",
   "id": "c6548330",
   "metadata": {},
   "source": [
    "## Setting up the Question-Answering model"
   ]
  },
  {
   "cell_type": "code",
   "execution_count": 49,
   "id": "3a7842a2",
   "metadata": {},
   "outputs": [],
   "source": [
    "template = \"Answer with as much detail as possible. If you do not know the answer, say 'I don't know':\""
   ]
  },
  {
   "cell_type": "markdown",
   "id": "a6b8e9f6",
   "metadata": {},
   "source": [
    "## INPUT QUESTION HERE"
   ]
  },
  {
   "cell_type": "code",
   "execution_count": 52,
   "id": "18c7f6e0",
   "metadata": {},
   "outputs": [
    {
     "name": "stdout",
     "output_type": "stream",
     "text": [
      "\n",
      "Yes, managing proxy voting can be a difficult process for advisers. Advisers must ensure that they are voting proxies in the best interest of their clients, which can be difficult to determine. They must also be aware of any potential conflicts of interest that may arise in connection with proxy voting. Additionally, advisers must be able to provide clients with a concise summary of their proxy voting process and offer to provide copies of the complete proxy voting policy and procedures upon request. Furthermore, advisers must be able to disclose to clients how they may obtain information regarding voted proxies. Additionally, advisers must be able to provide investors with adequate disclosure as to how final votes are aligned with any proxy advisor employed by their investment manager. This includes disclosing how often their final votes aligned with any proxy advisor they employed, as well as to disclose what percentage of proxy advisor recommendations were reviewed internally by an investment manager. Advisers must also be aware of the proxy advisory firms that dominate the industry, such as ISS and Glass-Lewis, and the business model of these firms. All of these tasks can be time-consuming and difficult to manage.\n"
     ]
    }
   ],
   "source": [
    "question = \"Is managing proxy voting a difficult process for advisers?\"\n",
    "\n",
    "query_setup = f\"{template} {question}\"\n",
    "result = qa({\"query\": query_setup})\n",
    "answer = result['result']\n",
    "print(answer)"
   ]
  },
  {
   "cell_type": "markdown",
   "id": "ec343f9a",
   "metadata": {},
   "source": [
    "## Get source documents for answer"
   ]
  },
  {
   "cell_type": "code",
   "execution_count": 41,
   "id": "9123d966",
   "metadata": {
    "scrolled": true
   },
   "outputs": [
    {
     "data": {
      "text/plain": [
       "[Document(page_content='Patrick: Yeah. Like, we did a proxy with a fund, to your point, Meb, it was brutal. But there’s a process here, there’s a cookbook now. And what I like about this industry is this cookbook was written in the ’90s, where everybody just paid lawyers and paid third parties and margins were much fatter, so no one looked at it. So, you have the way, “Things are supposed to be done.” And then you say, “Well, I know that doesn’t take that much time. I know this can be done with a computer, I know this part I can do myself, and you can get a proxy process that’s supposed to cost a quarter-million dollars, you can get that down to 80. That’s what I like about my job is you can find these things that there’s just so much fat on them. And with a little bit of wringing the towel, you can get it down to a more affordable.', lookup_str='', metadata={'title': 'all_things_etfs_meb_faber.txt'}, lookup_index=0),\n",
       " Document(page_content='Meb: The proxy is like the most antiquated. I mean, there’s a lot of antiquated still on Wall Street, the proxy is the most nonsensical. And when we did it, my hack was, because you guys are kind of brothers from another mother with being value-conscious, aka cheap bastards. And when we had to do proxy, and I was looking at some of these checks, we were going to have to write, I was like, “Oh, no, no, no, no, no, no, no, we got to find out a different solution.” And we had found an automated call center that would call all of our shareholders for like, 1/20 the cost and I just recorded a message. I was like, “Hey, this is Meb. You’re a shareholder in one of our funds.” And just recorded it and it was infinitely more effective than whatever process they had, which cost a gazillion dollars. But listeners, if you got a start-up that’s disrupting any of this hit me up because it’s, what a nightmare.', lookup_str='', metadata={'title': 'all_things_etfs_meb_faber.txt'}, lookup_index=0),\n",
       " Document(page_content='The first step is running a shareholder analysis via the Transfer Agent. That data will show you the 80/20 of where the shares are. If 50 people hold 80% of your shares…that’s a pretty easy proxy. If 50,000 people hold 80% of your shares…that’s a harder proxy (note – we did one of those successfully – it’s doable).\\nOnce you have identified the concentration, it is necessary to understand how the shareholders will be approached. If you are providing lower fees and tax efficiency, this is a pretty compelling value proposition. Shareholder letters, voicemails, webinars, etc., can all be part of the plan.', lookup_str='', metadata={'title': 'to_proxy_or_not.txt'}, lookup_index=0),\n",
       " Document(page_content='Based on the concentration, you may want to leverage a proxy solicitation firm to help get the votes. We have seen engagements ranging from $10k to hundreds of thousands of dollars. Again, it all depends on concentration. In our view, the best approach is to work in tandem with any proxy agent you choose. The outreach must be a team effort. You will bring deep knowledge of your shareholders. They will bring hundreds, if not thousands, of proxy efforts to the table.\\nFinally, don’t be afraid to put in the work, particularly with your biggest clients. This is an opportunity to rekindle conversations with valued partners and celebrate the next step of a fund’s life. Handwritten cards, phone calls, etc., are low-cost / high-touch gestures that show shareholders that they matter. In short, don’t outsource your outreach entirely. Be a part of the process.', lookup_str='', metadata={'title': 'to_proxy_or_not.txt'}, lookup_index=0)]"
      ]
     },
     "execution_count": 41,
     "metadata": {},
     "output_type": "execute_result"
    }
   ],
   "source": [
    "result['source_documents']"
   ]
  }
 ],
 "metadata": {
  "kernelspec": {
   "display_name": "Python 3 (ipykernel)",
   "language": "python",
   "name": "python3"
  },
  "language_info": {
   "codemirror_mode": {
    "name": "ipython",
    "version": 3
   },
   "file_extension": ".py",
   "mimetype": "text/x-python",
   "name": "python",
   "nbconvert_exporter": "python",
   "pygments_lexer": "ipython3",
   "version": "3.10.8"
  }
 },
 "nbformat": 4,
 "nbformat_minor": 5
}
